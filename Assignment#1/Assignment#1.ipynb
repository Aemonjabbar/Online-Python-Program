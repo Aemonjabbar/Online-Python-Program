{
 "cells": [
  {
   "cell_type": "code",
   "execution_count": 13,
   "id": "a86e16f3",
   "metadata": {},
   "outputs": [
    {
     "name": "stdout",
     "output_type": "stream",
     "text": [
      "Twinkle, twinkle, little star,\n",
      "        How I wonder what you are!\n",
      "                Up above the world so high,\n",
      "                Like a diamond in the sky.\n",
      "Twinkle, twinkle, little star,\n",
      "        How I wonder what you are\n"
     ]
    }
   ],
   "source": [
    "#Task1\n",
    "print(\"Twinkle, twinkle, little star,\")\n",
    "print(\"        How I wonder what you are!\")\n",
    "print(\"                Up above the world so high,\")\n",
    "print(\"                Like a diamond in the sky.\")\n",
    "print(\"Twinkle, twinkle, little star,\")\n",
    "print(\"        How I wonder what you are\")"
   ]
  },
  {
   "cell_type": "code",
   "execution_count": 15,
   "id": "261700ea",
   "metadata": {},
   "outputs": [
    {
     "name": "stdout",
     "output_type": "stream",
     "text": [
      "Python version\n",
      "3.8.8 (default, Apr 13 2021, 15:08:03) [MSC v.1916 64 bit (AMD64)]\n"
     ]
    }
   ],
   "source": [
    "#Task2\n",
    "import sys\n",
    "print(\"Python version\")\n",
    "print (sys.version)"
   ]
  },
  {
   "cell_type": "code",
   "execution_count": 17,
   "id": "1bd5b148",
   "metadata": {},
   "outputs": [
    {
     "name": "stdout",
     "output_type": "stream",
     "text": [
      "Current date and time : \n",
      "2021-12-29 22:28:31.445277\n"
     ]
    }
   ],
   "source": [
    "#Task3\n",
    "import datetime\n",
    "now = datetime.datetime.now()\n",
    "print (\"Current date and time : \")\n",
    "print (now)"
   ]
  },
  {
   "cell_type": "code",
   "execution_count": 18,
   "id": "46db2e93",
   "metadata": {},
   "outputs": [
    {
     "name": "stdout",
     "output_type": "stream",
     "text": [
      "The radius of the circle is : 2.5\n",
      "The area of the circle with radius is: 19.625\n"
     ]
    }
   ],
   "source": [
    "#Task4\n",
    "r = float(input (\"The radius of the circle is : \"))\n",
    "pi=3.14\n",
    "print (\"The area of the circle with radius is: \" + str(pi * r**2))"
   ]
  },
  {
   "cell_type": "code",
   "execution_count": 19,
   "id": "d34a4460",
   "metadata": {},
   "outputs": [
    {
     "name": "stdout",
     "output_type": "stream",
     "text": [
      "Firt Name:Aemon\n",
      "Last Name:Jabbar\n",
      "Jabbar Aemon\n"
     ]
    }
   ],
   "source": [
    "#Task5\n",
    "firstname=(input(\"Firt Name:\"))\n",
    "lastname=(input(\"Last Name:\"))\n",
    "print(lastname+\" \"+firstname)"
   ]
  },
  {
   "cell_type": "code",
   "execution_count": 21,
   "id": "a13a0b83",
   "metadata": {},
   "outputs": [
    {
     "name": "stdout",
     "output_type": "stream",
     "text": [
      "Firt Number:2\n",
      "Second Number:3\n",
      "5\n"
     ]
    }
   ],
   "source": [
    "#Task6\n",
    "a=int(input(\"Firt Number:\"))\n",
    "b=int(input(\"Second Number:\"))\n",
    "addition=a+b\n",
    "print(addition)"
   ]
  },
  {
   "cell_type": "code",
   "execution_count": null,
   "id": "a847ffd4",
   "metadata": {},
   "outputs": [],
   "source": []
  }
 ],
 "metadata": {
  "kernelspec": {
   "display_name": "Python 3",
   "language": "python",
   "name": "python3"
  },
  "language_info": {
   "codemirror_mode": {
    "name": "ipython",
    "version": 3
   },
   "file_extension": ".py",
   "mimetype": "text/x-python",
   "name": "python",
   "nbconvert_exporter": "python",
   "pygments_lexer": "ipython3",
   "version": "3.8.8"
  }
 },
 "nbformat": 4,
 "nbformat_minor": 5
}
